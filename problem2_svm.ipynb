{
  "nbformat": 4,
  "nbformat_minor": 0,
  "metadata": {
    "colab": {
      "name": "problem2_svm",
      "provenance": []
    },
    "kernelspec": {
      "name": "python3",
      "display_name": "Python 3"
    },
    "language_info": {
      "name": "python"
    },
    "accelerator": "GPU"
  },
  "cells": [
    {
      "cell_type": "code",
      "metadata": {
        "id": "-jJHHTp3NzmZ"
      },
      "source": [
        "import os.path\n",
        "from os import makedirs\n",
        "import cv2\n",
        "import numpy as np\n",
        "import pickle\n",
        "import matplotlib.pyplot as plt"
      ],
      "execution_count": 1,
      "outputs": []
    },
    {
      "cell_type": "code",
      "metadata": {
        "colab": {
          "base_uri": "https://localhost:8080/"
        },
        "id": "Xn8jXBwSPQJA",
        "outputId": "a5823885-4804-4c5b-8d90-6cadd07f65e2"
      },
      "source": [
        "from google.colab import drive \n",
        "\n",
        "drive.mount('/content/drive') "
      ],
      "execution_count": 2,
      "outputs": [
        {
          "output_type": "stream",
          "name": "stdout",
          "text": [
            "Mounted at /content/drive\n"
          ]
        }
      ]
    },
    {
      "cell_type": "code",
      "metadata": {
        "id": "lBnk-mPrPRDv"
      },
      "source": [
        "save_dir='/content/drive/MyDrive/Problem_2'\n",
        "\n",
        "x_train = save_dir+'/x_train.pkl'\n",
        "x_test = save_dir+'/x_test.pkl'\n",
        "y_train = save_dir+'/y_train.pkl'\n",
        "y_test = save_dir+'/y_test.pkl'\n",
        "\n",
        "with open(x_train,'rb') as f:\n",
        "    x_train = pickle.load(f)\n",
        "    \n",
        "with open(x_test,'rb') as f:\n",
        "    x_test = pickle.load(f)\n",
        "    \n",
        "with open(y_train,'rb') as f:\n",
        "    y_train = pickle.load(f)\n",
        "\n",
        "with open(y_test,'rb') as f:\n",
        "    y_test = pickle.load(f)"
      ],
      "execution_count": 3,
      "outputs": []
    },
    {
      "cell_type": "code",
      "metadata": {
        "colab": {
          "base_uri": "https://localhost:8080/",
          "height": 204
        },
        "id": "RbqD6lFePoxg",
        "outputId": "8a27c420-bdd9-4f58-d071-dddac76ebfa1"
      },
      "source": [
        "import pandas as pd\n",
        "y_test_df = pd.DataFrame(y_test,columns=['Blur','Vignette','Cataract','Shadow'])\n",
        "y_test_df.head()"
      ],
      "execution_count": 4,
      "outputs": [
        {
          "output_type": "execute_result",
          "data": {
            "text/html": [
              "<div>\n",
              "<style scoped>\n",
              "    .dataframe tbody tr th:only-of-type {\n",
              "        vertical-align: middle;\n",
              "    }\n",
              "\n",
              "    .dataframe tbody tr th {\n",
              "        vertical-align: top;\n",
              "    }\n",
              "\n",
              "    .dataframe thead th {\n",
              "        text-align: right;\n",
              "    }\n",
              "</style>\n",
              "<table border=\"1\" class=\"dataframe\">\n",
              "  <thead>\n",
              "    <tr style=\"text-align: right;\">\n",
              "      <th></th>\n",
              "      <th>Blur</th>\n",
              "      <th>Vignette</th>\n",
              "      <th>Cataract</th>\n",
              "      <th>Shadow</th>\n",
              "    </tr>\n",
              "  </thead>\n",
              "  <tbody>\n",
              "    <tr>\n",
              "      <th>0</th>\n",
              "      <td>1</td>\n",
              "      <td>0</td>\n",
              "      <td>0</td>\n",
              "      <td>1</td>\n",
              "    </tr>\n",
              "    <tr>\n",
              "      <th>1</th>\n",
              "      <td>1</td>\n",
              "      <td>2</td>\n",
              "      <td>1</td>\n",
              "      <td>0</td>\n",
              "    </tr>\n",
              "    <tr>\n",
              "      <th>2</th>\n",
              "      <td>0</td>\n",
              "      <td>3</td>\n",
              "      <td>2</td>\n",
              "      <td>0</td>\n",
              "    </tr>\n",
              "    <tr>\n",
              "      <th>3</th>\n",
              "      <td>0</td>\n",
              "      <td>0</td>\n",
              "      <td>1</td>\n",
              "      <td>0</td>\n",
              "    </tr>\n",
              "    <tr>\n",
              "      <th>4</th>\n",
              "      <td>1</td>\n",
              "      <td>0</td>\n",
              "      <td>0</td>\n",
              "      <td>0</td>\n",
              "    </tr>\n",
              "  </tbody>\n",
              "</table>\n",
              "</div>"
            ],
            "text/plain": [
              "   Blur  Vignette  Cataract  Shadow\n",
              "0     1         0         0       1\n",
              "1     1         2         1       0\n",
              "2     0         3         2       0\n",
              "3     0         0         1       0\n",
              "4     1         0         0       0"
            ]
          },
          "metadata": {},
          "execution_count": 4
        }
      ]
    },
    {
      "cell_type": "code",
      "metadata": {
        "colab": {
          "base_uri": "https://localhost:8080/"
        },
        "id": "o-8EbzBSbfjD",
        "outputId": "63c28f8e-d6a8-452b-a2da-720073dd1236"
      },
      "source": [
        "for i in ['Blur','Vignette','Cataract','Shadow']:\n",
        "  a = max(y_test_df[i].values)\n",
        "  b = max(y_train_df[i].values)\n",
        "  maximum = max(a,b)\n",
        "  print(i,'max' ,maximum )\n",
        "\n",
        "for i in ['Blur','Vignette','Cataract','Shadow']:\n",
        "  a = min(y_test_df[i].values)\n",
        "  b = min(y_train_df[i].values)\n",
        "  minimum = min(a,b)\n",
        "  print(i,'min' ,minimum )"
      ],
      "execution_count": 16,
      "outputs": [
        {
          "output_type": "stream",
          "name": "stdout",
          "text": [
            "Blur max 2\n",
            "Vignette max 3\n",
            "Cataract max 2\n",
            "Shadow max 3\n",
            "Blur min 0\n",
            "Vignette min 0\n",
            "Cataract min 0\n",
            "Shadow min 0\n"
          ]
        }
      ]
    },
    {
      "cell_type": "markdown",
      "metadata": {
        "id": "H_wCnH-Dc_oM"
      },
      "source": [
        "![image.png](data:image/png;base64,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)"
      ]
    },
    {
      "cell_type": "code",
      "metadata": {
        "id": "MHwBoaPuP5N1"
      },
      "source": [
        "import pandas as pd\n",
        "x_train = np.array(x_train)\n",
        "x_test = np.array(x_test)\n",
        "y_train_df = pd.DataFrame(y_train,columns=['Blur','Vignette','Cataract','Shadow'])\n",
        "y_test_df = pd.DataFrame(y_test,columns=['Blur','Vignette','Cataract','Shadow'])"
      ],
      "execution_count": 5,
      "outputs": []
    },
    {
      "cell_type": "code",
      "metadata": {
        "id": "tw9qVzienTIP",
        "outputId": "a02e4327-e741-465a-b322-adcd83004470",
        "colab": {
          "base_uri": "https://localhost:8080/"
        }
      },
      "source": [
        "x_train.shape"
      ],
      "execution_count": 25,
      "outputs": [
        {
          "output_type": "execute_result",
          "data": {
            "text/plain": [
              "(1612, 100, 100, 3)"
            ]
          },
          "metadata": {},
          "execution_count": 25
        }
      ]
    },
    {
      "cell_type": "markdown",
      "metadata": {
        "id": "j9g4tTKJdjl7"
      },
      "source": [
        "#SVM 단순 적용"
      ]
    },
    {
      "cell_type": "code",
      "metadata": {
        "colab": {
          "base_uri": "https://localhost:8080/"
        },
        "id": "KKbcEV9OR9BA",
        "outputId": "71479bed-0009-4bd0-8a28-4088192a9766"
      },
      "source": [
        "from sklearn.svm import LinearSVC\n",
        "from sklearn.metrics import accuracy_score\n",
        "x_train_flat = x_train.reshape(-1,3*100*100)\n",
        "x_test_flat = x_test.reshape(-1,3*100*100)\n",
        "for i in ['Blur','Vignette','Cataract','Shadow']:\n",
        "  lin_clf = LinearSVC(random_state=42)\n",
        "  lin_clf.fit(x_train_flat,y_train_df[i])\n",
        "  y_pred = lin_clf.predict(x_test_flat)\n",
        "  print(i,accuracy_score(y_test_df[i],y_pred))"
      ],
      "execution_count": 8,
      "outputs": [
        {
          "output_type": "stream",
          "name": "stderr",
          "text": [
            "/usr/local/lib/python3.7/dist-packages/sklearn/svm/_base.py:947: ConvergenceWarning: Liblinear failed to converge, increase the number of iterations.\n",
            "  \"the number of iterations.\", ConvergenceWarning)\n"
          ]
        },
        {
          "output_type": "stream",
          "name": "stdout",
          "text": [
            "Blur 0.8861386138613861\n"
          ]
        },
        {
          "output_type": "stream",
          "name": "stderr",
          "text": [
            "/usr/local/lib/python3.7/dist-packages/sklearn/svm/_base.py:947: ConvergenceWarning: Liblinear failed to converge, increase the number of iterations.\n",
            "  \"the number of iterations.\", ConvergenceWarning)\n"
          ]
        },
        {
          "output_type": "stream",
          "name": "stdout",
          "text": [
            "Vignette 0.8985148514851485\n"
          ]
        },
        {
          "output_type": "stream",
          "name": "stderr",
          "text": [
            "/usr/local/lib/python3.7/dist-packages/sklearn/svm/_base.py:947: ConvergenceWarning: Liblinear failed to converge, increase the number of iterations.\n",
            "  \"the number of iterations.\", ConvergenceWarning)\n"
          ]
        },
        {
          "output_type": "stream",
          "name": "stdout",
          "text": [
            "Cataract 0.9727722772277227\n",
            "Shadow 0.8861386138613861\n"
          ]
        },
        {
          "output_type": "stream",
          "name": "stderr",
          "text": [
            "/usr/local/lib/python3.7/dist-packages/sklearn/svm/_base.py:947: ConvergenceWarning: Liblinear failed to converge, increase the number of iterations.\n",
            "  \"the number of iterations.\", ConvergenceWarning)\n"
          ]
        }
      ]
    },
    {
      "cell_type": "code",
      "metadata": {
        "colab": {
          "base_uri": "https://localhost:8080/"
        },
        "id": "DKBKwPGllDit",
        "outputId": "62a507c4-0725-4175-9a57-70c031ee697a"
      },
      "source": [
        "from sklearn.svm import SVC\n",
        "from sklearn.metrics import accuracy_score\n",
        "x_train_flat = x_train.reshape(-1,3*100*100)\n",
        "x_test_flat = x_test.reshape(-1,3*100*100)\n",
        "for i in ['Blur','Vignette','Cataract','Shadow']:\n",
        "  clf = SVC(random_state=42)\n",
        "  clf.fit(x_train_flat,y_train_df[i])\n",
        "  y_pred = clf.predict(x_test_flat)\n",
        "  print(i,accuracy_score(y_test_df[i],y_pred))"
      ],
      "execution_count": 19,
      "outputs": [
        {
          "output_type": "stream",
          "name": "stdout",
          "text": [
            "Blur 0.5470297029702971\n",
            "Vignette 0.745049504950495\n",
            "Cataract 0.7970297029702971\n",
            "Shadow 0.7301980198019802\n"
          ]
        }
      ]
    },
    {
      "cell_type": "markdown",
      "metadata": {
        "id": "k5qnCdUPZhFZ"
      },
      "source": [
        "1. 데이터 flatten 후, svm 적용\n",
        "\n",
        "\n",
        "---\n",
        "\n",
        "\n",
        "![image.png](data:image/png;base64,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)"
      ]
    },
    {
      "cell_type": "markdown",
      "metadata": {
        "id": "lqsxigB4w4iQ"
      },
      "source": [
        "# VGG16 이용"
      ]
    },
    {
      "cell_type": "code",
      "metadata": {
        "id": "bwnDDx-Ew3_h"
      },
      "source": [
        "from tensorflow.keras.models import Model\n",
        "from tensorflow.python.keras.applications.vgg16 import VGG16, preprocess_input\n",
        "from tensorflow.python.keras.preprocessing.image import img_to_array"
      ],
      "execution_count": 43,
      "outputs": []
    },
    {
      "cell_type": "code",
      "metadata": {
        "id": "pN4c6f1JxAIp"
      },
      "source": [
        "base_model = VGG16(include_top = False,weights='imagenet',input_shape=(100,100,3))\n",
        "x_vgg16 = base_model.predict(x_train)\n",
        "x_val_vgg16 = base_model.predict(x_test)"
      ],
      "execution_count": 47,
      "outputs": []
    },
    {
      "cell_type": "code",
      "metadata": {
        "id": "FPxQhqIYyohz",
        "outputId": "2af99f36-4dd5-453b-95b6-c9cbab5647c8",
        "colab": {
          "base_uri": "https://localhost:8080/"
        }
      },
      "source": [
        "base_model.summary()"
      ],
      "execution_count": 48,
      "outputs": [
        {
          "output_type": "stream",
          "name": "stdout",
          "text": [
            "Model: \"vgg16\"\n",
            "_________________________________________________________________\n",
            "Layer (type)                 Output Shape              Param #   \n",
            "=================================================================\n",
            "input_3 (InputLayer)         [(None, 100, 100, 3)]     0         \n",
            "_________________________________________________________________\n",
            "block1_conv1 (Conv2D)        (None, 100, 100, 64)      1792      \n",
            "_________________________________________________________________\n",
            "block1_conv2 (Conv2D)        (None, 100, 100, 64)      36928     \n",
            "_________________________________________________________________\n",
            "block1_pool (MaxPooling2D)   (None, 50, 50, 64)        0         \n",
            "_________________________________________________________________\n",
            "block2_conv1 (Conv2D)        (None, 50, 50, 128)       73856     \n",
            "_________________________________________________________________\n",
            "block2_conv2 (Conv2D)        (None, 50, 50, 128)       147584    \n",
            "_________________________________________________________________\n",
            "block2_pool (MaxPooling2D)   (None, 25, 25, 128)       0         \n",
            "_________________________________________________________________\n",
            "block3_conv1 (Conv2D)        (None, 25, 25, 256)       295168    \n",
            "_________________________________________________________________\n",
            "block3_conv2 (Conv2D)        (None, 25, 25, 256)       590080    \n",
            "_________________________________________________________________\n",
            "block3_conv3 (Conv2D)        (None, 25, 25, 256)       590080    \n",
            "_________________________________________________________________\n",
            "block3_pool (MaxPooling2D)   (None, 12, 12, 256)       0         \n",
            "_________________________________________________________________\n",
            "block4_conv1 (Conv2D)        (None, 12, 12, 512)       1180160   \n",
            "_________________________________________________________________\n",
            "block4_conv2 (Conv2D)        (None, 12, 12, 512)       2359808   \n",
            "_________________________________________________________________\n",
            "block4_conv3 (Conv2D)        (None, 12, 12, 512)       2359808   \n",
            "_________________________________________________________________\n",
            "block4_pool (MaxPooling2D)   (None, 6, 6, 512)         0         \n",
            "_________________________________________________________________\n",
            "block5_conv1 (Conv2D)        (None, 6, 6, 512)         2359808   \n",
            "_________________________________________________________________\n",
            "block5_conv2 (Conv2D)        (None, 6, 6, 512)         2359808   \n",
            "_________________________________________________________________\n",
            "block5_conv3 (Conv2D)        (None, 6, 6, 512)         2359808   \n",
            "_________________________________________________________________\n",
            "block5_pool (MaxPooling2D)   (None, 3, 3, 512)         0         \n",
            "=================================================================\n",
            "Total params: 14,714,688\n",
            "Trainable params: 14,714,688\n",
            "Non-trainable params: 0\n",
            "_________________________________________________________________\n"
          ]
        }
      ]
    },
    {
      "cell_type": "code",
      "metadata": {
        "id": "N44kVlElxRhA",
        "outputId": "9218cf91-eef5-46b2-f039-49bd48423d48",
        "colab": {
          "base_uri": "https://localhost:8080/"
        }
      },
      "source": [
        "x_vgg16_flat = x_vgg16.reshape(-1,3*3*512)\n",
        "x_val_vgg16_flat = x_val_vgg16.reshape(-1,3*3*512)\n",
        "for i in ['Blur','Vignette','Cataract','Shadow']:\n",
        "  lin_clf = LinearSVC(random_state=42)\n",
        "  lin_clf.fit(x_vgg16_flat,y_train_df[i])\n",
        "  y_pred = lin_clf.predict(x_val_vgg16_flat)\n",
        "  print(i,accuracy_score(y_test_df[i],y_pred))"
      ],
      "execution_count": 49,
      "outputs": [
        {
          "output_type": "stream",
          "name": "stderr",
          "text": [
            "/usr/local/lib/python3.7/dist-packages/sklearn/svm/_base.py:947: ConvergenceWarning: Liblinear failed to converge, increase the number of iterations.\n",
            "  \"the number of iterations.\", ConvergenceWarning)\n"
          ]
        },
        {
          "output_type": "stream",
          "name": "stdout",
          "text": [
            "Blur 0.9381188118811881\n"
          ]
        },
        {
          "output_type": "stream",
          "name": "stderr",
          "text": [
            "/usr/local/lib/python3.7/dist-packages/sklearn/svm/_base.py:947: ConvergenceWarning: Liblinear failed to converge, increase the number of iterations.\n",
            "  \"the number of iterations.\", ConvergenceWarning)\n"
          ]
        },
        {
          "output_type": "stream",
          "name": "stdout",
          "text": [
            "Vignette 0.9678217821782178\n"
          ]
        },
        {
          "output_type": "stream",
          "name": "stderr",
          "text": [
            "/usr/local/lib/python3.7/dist-packages/sklearn/svm/_base.py:947: ConvergenceWarning: Liblinear failed to converge, increase the number of iterations.\n",
            "  \"the number of iterations.\", ConvergenceWarning)\n"
          ]
        },
        {
          "output_type": "stream",
          "name": "stdout",
          "text": [
            "Cataract 0.9777227722772277\n",
            "Shadow 0.8712871287128713\n"
          ]
        },
        {
          "output_type": "stream",
          "name": "stderr",
          "text": [
            "/usr/local/lib/python3.7/dist-packages/sklearn/svm/_base.py:947: ConvergenceWarning: Liblinear failed to converge, increase the number of iterations.\n",
            "  \"the number of iterations.\", ConvergenceWarning)\n"
          ]
        }
      ]
    },
    {
      "cell_type": "markdown",
      "metadata": {
        "id": "yCMbwELozeqV"
      },
      "source": [
        "![image.png](data:image/png;base64,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)"
      ]
    },
    {
      "cell_type": "markdown",
      "metadata": {
        "id": "6_HbXDxXaM8s"
      },
      "source": [
        "#CNN 이용"
      ]
    },
    {
      "cell_type": "code",
      "metadata": {
        "id": "IxPjWBsvtKIw"
      },
      "source": [
        "from tensorflow.keras.utils import to_categorical"
      ],
      "execution_count": 38,
      "outputs": []
    },
    {
      "cell_type": "code",
      "metadata": {
        "id": "smST8AwzZWfT"
      },
      "source": [
        "from keras.models import Sequential\n",
        "from keras.layers import Dense, Conv2D, MaxPooling2D, Dropout, Flatten\n",
        "from keras.callbacks import ModelCheckpoint, EarlyStopping"
      ],
      "execution_count": 22,
      "outputs": []
    },
    {
      "cell_type": "code",
      "metadata": {
        "id": "DLGUg7Bq0xeC"
      },
      "source": [
        "y_encode = to_categorical(y_train_df)\n",
        "y_val_encode = to_categorical(y_test_df)"
      ],
      "execution_count": 59,
      "outputs": []
    },
    {
      "cell_type": "code",
      "metadata": {
        "id": "38vTu-LM2knt"
      },
      "source": [
        "model = Sequential()\n",
        "model.add(Conv2D(32, kernel_size=(3, 3), input_shape=(100, 100, 3), activation='relu'))\n",
        "model.add(Conv2D(64, (3, 3), activation='relu'))\n",
        "model.add(MaxPooling2D(pool_size=2))\n",
        "model.add(Dropout(0.25))\n",
        "model.add(Conv2D(64, (3, 3), activation='relu'))\n",
        "model.add(MaxPooling2D(pool_size=2))\n",
        "model.add(Dropout(0.25))\n",
        "model.add(Conv2D(64, (3, 3), activation='relu'))\n",
        "model.add(MaxPooling2D(pool_size=2))\n",
        "model.add(Dropout(0.25))\n",
        "model.add(Conv2D(1, (3, 3), activation='relu'))\n",
        "model.add(MaxPooling2D(pool_size=2))\n",
        "model.add(Dropout(0.25))\n",
        "model.add(Flatten())\n",
        "model.add(Dense(4))"
      ],
      "execution_count": 93,
      "outputs": []
    },
    {
      "cell_type": "code",
      "metadata": {
        "id": "jkwJIw8o2lT6",
        "outputId": "970f6739-93d9-41ea-c482-6cee6cd1b274",
        "colab": {
          "base_uri": "https://localhost:8080/"
        }
      },
      "source": [
        "model.summary()"
      ],
      "execution_count": 92,
      "outputs": [
        {
          "output_type": "stream",
          "name": "stdout",
          "text": [
            "Model: \"sequential_15\"\n",
            "_________________________________________________________________\n",
            "Layer (type)                 Output Shape              Param #   \n",
            "=================================================================\n",
            "conv2d_54 (Conv2D)           (None, 98, 98, 32)        896       \n",
            "_________________________________________________________________\n",
            "conv2d_55 (Conv2D)           (None, 96, 96, 64)        18496     \n",
            "_________________________________________________________________\n",
            "max_pooling2d_36 (MaxPooling (None, 48, 48, 64)        0         \n",
            "_________________________________________________________________\n",
            "dropout_48 (Dropout)         (None, 48, 48, 64)        0         \n",
            "_________________________________________________________________\n",
            "conv2d_56 (Conv2D)           (None, 46, 46, 64)        36928     \n",
            "_________________________________________________________________\n",
            "max_pooling2d_37 (MaxPooling (None, 23, 23, 64)        0         \n",
            "_________________________________________________________________\n",
            "dropout_49 (Dropout)         (None, 23, 23, 64)        0         \n",
            "_________________________________________________________________\n",
            "conv2d_57 (Conv2D)           (None, 21, 21, 64)        36928     \n",
            "_________________________________________________________________\n",
            "max_pooling2d_38 (MaxPooling (None, 10, 10, 64)        0         \n",
            "_________________________________________________________________\n",
            "dropout_50 (Dropout)         (None, 10, 10, 64)        0         \n",
            "_________________________________________________________________\n",
            "conv2d_58 (Conv2D)           (None, 8, 8, 1)           577       \n",
            "_________________________________________________________________\n",
            "max_pooling2d_39 (MaxPooling (None, 4, 4, 1)           0         \n",
            "_________________________________________________________________\n",
            "dropout_51 (Dropout)         (None, 4, 4, 1)           0         \n",
            "_________________________________________________________________\n",
            "flatten_9 (Flatten)          (None, 16)                0         \n",
            "_________________________________________________________________\n",
            "dense_31 (Dense)             (None, 4)                 68        \n",
            "=================================================================\n",
            "Total params: 93,893\n",
            "Trainable params: 93,893\n",
            "Non-trainable params: 0\n",
            "_________________________________________________________________\n"
          ]
        }
      ]
    },
    {
      "cell_type": "code",
      "metadata": {
        "id": "V3kcW_zqoEOf",
        "outputId": "558b4b9a-dddc-4372-91be-b49564cf1abc",
        "colab": {
          "base_uri": "https://localhost:8080/"
        }
      },
      "source": [
        "model.compile(loss='mse', optimizer='adam',\n",
        "            metrics=['accuracy'])\n",
        "cb_early_stopping = EarlyStopping(monitor='val_loss', patience=7)\n",
        "history = model.fit(x_train, y_train_df,\n",
        "                  validation_data=(x_test, y_test_df),\n",
        "                  epochs=100, batch_size=64, verbose=10,\n",
        "                  callbacks=[cb_early_stopping])"
      ],
      "execution_count": 96,
      "outputs": [
        {
          "output_type": "stream",
          "name": "stdout",
          "text": [
            "Epoch 1/100\n",
            "Epoch 2/100\n",
            "Epoch 3/100\n",
            "Epoch 4/100\n",
            "Epoch 5/100\n",
            "Epoch 6/100\n",
            "Epoch 7/100\n",
            "Epoch 8/100\n",
            "Epoch 9/100\n",
            "Epoch 10/100\n",
            "Epoch 11/100\n",
            "Epoch 12/100\n",
            "Epoch 13/100\n",
            "Epoch 14/100\n",
            "Epoch 15/100\n",
            "Epoch 16/100\n",
            "Epoch 17/100\n",
            "Epoch 18/100\n",
            "Epoch 19/100\n",
            "Epoch 20/100\n",
            "Epoch 21/100\n",
            "Epoch 22/100\n",
            "Epoch 23/100\n",
            "Epoch 24/100\n",
            "Epoch 25/100\n",
            "Epoch 26/100\n",
            "Epoch 27/100\n",
            "Epoch 28/100\n",
            "Epoch 29/100\n",
            "Epoch 30/100\n",
            "Epoch 31/100\n",
            "Epoch 32/100\n",
            "Epoch 33/100\n",
            "Epoch 34/100\n",
            "Epoch 35/100\n",
            "Epoch 36/100\n",
            "Epoch 37/100\n",
            "Epoch 38/100\n"
          ]
        }
      ]
    },
    {
      "cell_type": "code",
      "metadata": {
        "id": "FsnE-Uu_5I-L",
        "outputId": "2e48dc9c-5c94-4cf7-df24-9849a3a17335",
        "colab": {
          "base_uri": "https://localhost:8080/"
        }
      },
      "source": [
        "history.history['val_loss'][-1]"
      ],
      "execution_count": 98,
      "outputs": [
        {
          "output_type": "execute_result",
          "data": {
            "text/plain": [
              "0.19749665260314941"
            ]
          },
          "metadata": {},
          "execution_count": 98
        }
      ]
    },
    {
      "cell_type": "code",
      "metadata": {
        "id": "2fk0SV8L8N1W",
        "outputId": "a244244c-b185-4dfa-c54c-64eef6f0f0e4",
        "colab": {
          "base_uri": "https://localhost:8080/"
        }
      },
      "source": [
        "history.history['loss'][-1]"
      ],
      "execution_count": 99,
      "outputs": [
        {
          "output_type": "execute_result",
          "data": {
            "text/plain": [
              "0.2575145959854126"
            ]
          },
          "metadata": {},
          "execution_count": 99
        }
      ]
    },
    {
      "cell_type": "code",
      "metadata": {
        "id": "3VtYXGIS1VAm",
        "outputId": "d9b57ab6-8cbe-406c-b00c-ac4919d1eba1",
        "colab": {
          "base_uri": "https://localhost:8080/",
          "height": 279
        }
      },
      "source": [
        "import matplotlib.pyplot as plt\n",
        "\n",
        "hist = history\n",
        "fig, loss_ax = plt.subplots()\n",
        "acc_ax = loss_ax.twinx()\n",
        "\n",
        "loss_ax.plot(hist.history['loss'], 'y', label='train loss')\n",
        "loss_ax.plot(hist.history['val_loss'], 'r', label='val loss')\n",
        "loss_ax.set_xlabel('epoch')\n",
        "loss_ax.set_ylabel('loss')\n",
        "loss_ax.legend(loc='upper left')\n",
        "\n",
        "acc_ax.plot(hist.history['accuracy'], 'b', label='train acc')\n",
        "acc_ax.plot(hist.history['val_accuracy'], 'g', label='val acc')\n",
        "acc_ax.set_ylabel('accuracy')\n",
        "acc_ax.legend(loc='upper left')\n",
        "\n",
        "plt.show()"
      ],
      "execution_count": 97,
      "outputs": [
        {
          "output_type": "display_data",
          "data": {
            "image/png": "[encoded data removed]",
            "text/plain": [
              "<Figure size 432x288 with 2 Axes>"
            ]
          },
          "metadata": {
            "needs_background": "light"
          }
        }
      ]
    },
    {
      "cell_type": "code",
      "metadata": {
        "id": "HmPVkyblaVM5"
      },
      "source": [
        "def use_cnn(model,x,y,x_val,y_val,n_class):\n",
        "  model.add(Dense(n_class, activation='softmax'))\n",
        "  model.compile(loss='categorical_crossentropy',\n",
        "              optimizer='adam',\n",
        "              metrics=['accuracy'])\n",
        "  cb_early_stopping = EarlyStopping(monitor='val_loss', patience=7)\n",
        "  history = model.fit(x, y,\n",
        "                    validation_data=(x_val, y_val),\n",
        "                    epochs=10, batch_size=64, verbose=0,\n",
        "                    callbacks=[cb_early_stopping])\n",
        "  print('cnn :', history.history['val_loss'][-1])\n",
        "  print('cnn :', history.history['loss'][-1])\n",
        "  return model.get_weights()"
      ],
      "execution_count": 41,
      "outputs": []
    }
  ]
}